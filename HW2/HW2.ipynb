{
 "cells": [
  {
   "cell_type": "markdown",
   "metadata": {},
   "source": [
    "# Homework #2\n"
   ]
  },
  {
   "cell_type": "markdown",
   "metadata": {},
   "source": [
    "## #1\n",
    "\n",
    "x - Input feature(s) (typically a vector in general)\n",
    "y - Actual output (ground truth label or real value)\n",
    "yhat - Predicted output (hypothesis function's output)\n",
    "θ - Parameter(s) of the model (vector in general)\n",
    "hθ(x) - Hypothesis function (model's prediction function)\n",
    "J(θ) - Optimization (cost/loss) function\n"
   ]
  },
  {
   "cell_type": "markdown",
   "metadata": {},
   "source": [
    "## #2\n",
    "\n",
    "Example: Optimizing Advertising Spend\n",
    "\n",
    "Goal: Optimize advertising spend (θ) to maximize revenue 𝐽(𝜃).\n",
    "θ = amount of money spent on online ads (e.g., Google Ads, Facebook Ads, etc.).\n",
    "J(θ) = total revenue generated from the ad campaign.\n",
    "Optimization Goal: Find the optimal ad spend 𝜃∗ that maximizes revenue.\n"
   ]
  },
  {
   "cell_type": "markdown",
   "metadata": {},
   "source": [
    "## #3\n",
    "\n",
    "To find the maximum or minumum of a function i.e. optimize it: We must take the derivative of the function at hand: 𝐽(𝜃).\n",
    "Then find critical points by setting the derivative = 0 and solving.\n",
    "In order to determine if its a maximum or minimum you can use the second derivative to see if its > 0 then its a local minimum. < 0 its a maximum, else you will need to use antoher method.\n"
   ]
  },
  {
   "cell_type": "markdown",
   "metadata": {},
   "source": [
    "## Example 1:\n",
    "\n",
    "Can you think of how to pose finding the mean of the four numbers 1, 3, 5 and 7 as an\n",
    "optimization problem? Set up the problem (define θ and J(θ)) and list all steps to determine θ∗(analytical).\n",
    "Then provide the pseudo-code to enable this to be implemented in a computer package.\n",
    "\n",
    "θ=the mean value we are trying to find\n",
    "J(θ):\n",
    "The sum of squared differences between 𝜃 and each data point:\n",
    "\n",
    "our function to solve is the sum of (xi - 𝜃)^2 from i=1 -> n where n = 4 as we have 4 numbers.\n",
    "We need to take the derivative of this which looks like:\n",
    "\n",
    "J(θ)=(1−θ)^2 +(3−θ)^2 +(5−θ)^2 +(7−θ)^2\n",
    "\n",
    "derivative = 2(1−θ)(−1)+2(3−θ)(−1)+2(5−θ)(−1)+2(7−θ)(−1)\n",
    "= -32 + 8𝜃\n",
    "𝜃\\* = 4\n",
    "\n",
    "meaning that the optimized value is 4 i.e the mean is 4.\n",
    "\n",
    "code to easily find optimization:\n"
   ]
  },
  {
   "cell_type": "code",
   "execution_count": null,
   "metadata": {},
   "outputs": [],
   "source": [
    "def compute_mean(numbers):\n",
    "    return sum(numbers) / len(numbers)\n",
    "\n",
    "\n",
    "numbers = [1, 3, 5, 7]\n",
    "theta_star = compute_mean(numbers)\n",
    "\n",
    "print(\"Optimal θ* (Mean):\", theta_star)"
   ]
  },
  {
   "cell_type": "markdown",
   "metadata": {},
   "source": [
    "## Example 2:\n",
    "\n",
    "Example 2. Can you find the maximum of the function f(x) = 3 –x -x2? First define θ, h(θ) and J(θ) , and then\n",
    "show all steps as you determine h(θ∗). Then provide the pseudo-code to enable this to be implemented in a\n",
    "computer package.\n",
    "\n",
    "θ=x\n",
    "J(θ) = f(x) = 3 - x - x^2\n",
    "derivative with respect to θ = -1 - 2θ\n",
    "θ = -1/2. Input -1/2 back into the back function and return 13/4. so the maximum occurs at (-1/2, 13/4)\n"
   ]
  },
  {
   "cell_type": "code",
   "execution_count": 1,
   "metadata": {},
   "outputs": [
    {
     "name": "stdout",
     "output_type": "stream",
     "text": [
      "Maximum occurs at θ* = -1/2\n",
      "Maximum value h(θ*) = 13/4\n"
     ]
    }
   ],
   "source": [
    "import sympy as sp\n",
    "\n",
    "# Define the variable\n",
    "theta = sp.Symbol('theta')\n",
    "\n",
    "# Define the function\n",
    "J_theta = 3 - theta - theta**2\n",
    "\n",
    "# Compute the first derivative\n",
    "first_derivative = sp.diff(J_theta, theta)\n",
    "\n",
    "# Solve for critical point (set first derivative to zero)\n",
    "theta_star = sp.solve(first_derivative, theta)[0]\n",
    "\n",
    "# Compute the second derivative\n",
    "second_derivative = sp.diff(first_derivative, theta)\n",
    "\n",
    "# Check concavity\n",
    "if second_derivative.subs(theta, theta_star) < 0:\n",
    "    max_value = J_theta.subs(theta, theta_star)\n",
    "    print(f\"Maximum occurs at θ* = {theta_star}\")\n",
    "    print(f\"Maximum value h(θ*) = {max_value}\")\n",
    "else:\n",
    "    print(\"No maximum found.\")"
   ]
  },
  {
   "cell_type": "markdown",
   "metadata": {},
   "source": [
    "Step 1: Define the Optimization Problem\n",
    "We need to find the optimal straight-line fit for the given points:\n",
    "\n",
    "(1, 1.5), (4,3.5), (7,9)\n",
    "\n",
    "The equation of a straight line is: y=mx+b\n",
    "\n",
    "Step 2: Define the Cost Function\n",
    "We use the Mean Squared Error (MSE) as the cost function\n",
    "1/n \\* sum from i -> n (yi - (mxi + b))^2\n",
    "\n",
    "where n = 3\n",
    "\n",
    "we then take the partial derivatives with respect to m and b.\n",
    "\n",
    "Implementation using numpy:\n"
   ]
  },
  {
   "cell_type": "code",
   "execution_count": 3,
   "metadata": {},
   "outputs": [
    {
     "name": "stdout",
     "output_type": "stream",
     "text": [
      "Optimal slope (m*): 1.25\n",
      "Optimal intercept (b*): -0.33\n"
     ]
    }
   ],
   "source": [
    "import numpy as np\n",
    "\n",
    "# Given data points\n",
    "x = np.array([1, 4, 7])\n",
    "y = np.array([1.5, 3.5, 9])\n",
    "\n",
    "# Compute least squares solution for linear regression\n",
    "A = np.vstack([x, np.ones(len(x))]).T  # Design matrix\n",
    "m, b = np.linalg.lstsq(A, y, rcond=None)[0]  # Solve for m and b\n",
    "\n",
    "# Print results\n",
    "print(f\"Optimal slope (m*): {round(m, 2)}\")\n",
    "print(f\"Optimal intercept (b*): {round(b, 2)}\")"
   ]
  },
  {
   "cell_type": "markdown",
   "metadata": {},
   "source": [
    "# #3\n",
    "\n",
    "### i.\n",
    "\n",
    "By plotting out the graph we can see that the minimum is at θ = 3/2\n",
    "\n",
    "### ii.\n",
    "\n",
    "Using Gradient descent starting at θ = 5\n",
    "compute the derivative first: The Gradient = 8θ - 12.\n",
    "Using a learning rate of a = 0.1. our next θ = 5 - 0.1(8(5) - 12) == 2.2\n",
    "Our new θ is 2.2. repeat this step and we get θ = 2.2 - 0.1(8(2.2) - 12) == 1.64\n",
    "Repeat this multiple times and we can see that θ converges onto 1.5 i.e 3/2. So gradient descent correctly approaches the minumum value.\n"
   ]
  },
  {
   "cell_type": "markdown",
   "metadata": {},
   "source": [
    "# #4\n",
    "\n",
    "### Step 1\n",
    "\n",
    "define the problem\n",
    "equation of a traight line is y = mx+b\n",
    "θ = [m,b]\n",
    "h(x) = mx + b\n",
    "Cost function = MSE Function where n=4 (number of points)\n",
    "\n",
    "### Step 2\n",
    "\n",
    "Compute the derivatives with respect to m and b\n",
    "\n",
    "### Step 3\n",
    "\n",
    "Gradient descent update rule\n",
    "m = m - a(deriv with respect to m)\n",
    "b = b - a(deriv with respect to b)\n",
    "\n",
    "### Step 4\n",
    "\n",
    "Compute iterations by hand.\n",
    "We will start with m = 0 and b = 0, and a = 0.01\n",
    "Compute all errors:\n",
    "dJ/dm = -1/4 \\* sum (xi(yi-yhat)) from i = 1 -> 4\n",
    "= -1/4​[(1)(1.5)+(4)(3.5)+(7)(9)+(10)(8)] = -39.625\n",
    "dJ/db = −1/4 [1.5+3.5+9+8]= -5.5\n",
    "\n",
    "### Step 5\n",
    "\n",
    "Now use this m1 and b1 predictions to compute new yhat values:\n",
    "yhat1 = 0.39625(1)+0.055=0.45125\n",
    "yhat2 = 0.39625(4)+0.055=1.64\n",
    "yhat3 = 0.39625(7)+0.055=2.828\n",
    "yhat4 = 0.39625(10)+0.055=4.015\n",
    "\n",
    "Compute errors\n",
    "1.5−0.45125=1.04875\n",
    "3.5−1.64=1.86\n",
    "9−2.828=6.172\n",
    "8−4.015=3.985\n",
    "\n",
    "Update m and b.\n",
    "dJ/dm = -1/4[1.04875+7.44+43.204+39.85] = -22.8857\n",
    "dJ/db = -1/4[1.04875+1.86+6.172+3.985] = -3.266\n",
    "\n",
    "​\n",
    "m2 = m1 − α(−22.8857)=0.39625+0.01(22.8857)=0.6251\n",
    "\n",
    "b2 = b1 − α(−3.266)=0.055+0.01(3.266)=0.08766\n",
    "\n",
    "### Step 7\n",
    "\n",
    "Repeat until satisfied.\n"
   ]
  },
  {
   "cell_type": "markdown",
   "metadata": {},
   "source": [
    "# #5\n"
   ]
  },
  {
   "cell_type": "code",
   "execution_count": 3,
   "metadata": {},
   "outputs": [
    {
     "name": "stdout",
     "output_type": "stream",
     "text": [
      "Iteration 1: theta = 3.60000, J(theta) = 17.64000\n",
      "Iteration 2: theta = 2.76000, J(theta) = 6.35040\n",
      "Iteration 3: theta = 2.25600, J(theta) = 2.28614\n",
      "Iteration 4: theta = 1.95360, J(theta) = 0.82301\n",
      "Iteration 5: theta = 1.77216, J(theta) = 0.29628\n",
      "Iteration 6: theta = 1.66330, J(theta) = 0.10666\n",
      "Iteration 7: theta = 1.59798, J(theta) = 0.03840\n",
      "Iteration 8: theta = 1.55879, J(theta) = 0.01382\n",
      "Iteration 9: theta = 1.53527, J(theta) = 0.00498\n",
      "Iteration 10: theta = 1.52116, J(theta) = 0.00179\n",
      "Iteration 11: theta = 1.51270, J(theta) = 0.00064\n",
      "Iteration 12: theta = 1.50762, J(theta) = 0.00023\n",
      "Iteration 13: theta = 1.50457, J(theta) = 0.00008\n",
      "Iteration 14: theta = 1.50274, J(theta) = 0.00003\n",
      "Iteration 15: theta = 1.50165, J(theta) = 0.00001\n"
     ]
    },
    {
     "data": {
      "text/plain": [
       "<matplotlib.legend.Legend at 0x1165d9010>"
      ]
     },
     "execution_count": 3,
     "metadata": {},
     "output_type": "execute_result"
    },
    {
     "data": {
      "image/png": "[encoded data removed]",
      "text/plain": [
       "<Figure size 800x500 with 1 Axes>"
      ]
     },
     "metadata": {},
     "output_type": "display_data"
    }
   ],
   "source": [
    "import numpy as np\n",
    "import matplotlib.pyplot as plt\n",
    "\n",
    "# Define the function J(theta) and its gradient\n",
    "\n",
    "\n",
    "def J(theta):\n",
    "    return (2 * theta - 3) ** 2\n",
    "\n",
    "\n",
    "def gradient(theta):\n",
    "    return 4 * theta - 6  # Derivative of J(theta)\n",
    "\n",
    "\n",
    "# Initialize parameters\n",
    "alpha = 0.1  # Learning rate\n",
    "theta = 5  # Initial value\n",
    "iterations = 15  # Number of iterations\n",
    "\n",
    "theta_values = [theta]\n",
    "cost_values = [J(theta)]\n",
    "\n",
    "# Perform Gradient Descent\n",
    "for i in range(iterations):\n",
    "    theta = theta - alpha * gradient(theta)\n",
    "    theta_values.append(theta)\n",
    "    cost_values.append(J(theta))\n",
    "    print(f\"Iteration {i+1}: theta = {theta:.5f}, J(theta) = {J(theta):.5f}\")\n",
    "\n",
    "# Plot J(theta) and Gradient Descent Steps\n",
    "theta_range = np.linspace(0, 5, 100)\n",
    "plt.figure(figsize=(8, 5))\n",
    "plt.plot(theta_range, J(theta_range), label='J(theta)', color='blue')\n",
    "plt.scatter(theta_values, cost_values, color='red',\n",
    "            label='Gradient Descent Steps')\n",
    "plt.xlabel(\"Theta\")\n",
    "plt.ylabel(\"J(Theta)\")\n",
    "plt.title(\"Gradient Descent Minimization of J(Theta)\")\n",
    "plt.legend()"
   ]
  },
  {
   "cell_type": "markdown",
   "metadata": {},
   "source": []
  }
 ],
 "metadata": {
  "kernelspec": {
   "display_name": "Python 3",
   "language": "python",
   "name": "python3"
  },
  "language_info": {
   "codemirror_mode": {
    "name": "ipython",
    "version": 3
   },
   "file_extension": ".py",
   "mimetype": "text/x-python",
   "name": "python",
   "nbconvert_exporter": "python",
   "pygments_lexer": "ipython3",
   "version": "3.11.10"
  }
 },
 "nbformat": 4,
 "nbformat_minor": 2
}
