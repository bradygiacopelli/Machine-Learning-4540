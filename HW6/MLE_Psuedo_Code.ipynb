{
 "cells": [
  {
   "cell_type": "markdown",
   "metadata": {},
   "source": [
    "1. Import necessary libraries:\n",
    "   - scipy.stats for probability distributions\n",
    "   - numpy for numerical computations\n",
    "   - scipy.optimize.minimize for optimization\n",
    "\n",
    "2. Set random seed for reproducibility.\n",
    "\n",
    "3. Define true parameters for the logistic distribution:\n",
    "   - mean (μ)\n",
    "   - scale parameter (s)\n",
    "   - number of samples (N)\n",
    "\n",
    "4. Generate N random samples from the logistic distribution using the true parameters.\n",
    "\n",
    "5. Define the **Negative Log Likelihood (NLL)** function:\n",
    "   - Takes parameter estimates (mean and scale) as input.\n",
    "   - Ensures scale parameter remains positive (to prevent invalid calculations).\n",
    "   - Computes the sum of the negative log-probability densities of the sample data.\n",
    "   - Returns the negative log-likelihood value.\n",
    "\n",
    "6. Initialize parameter guesses for mean and scale.\n",
    "\n",
    "7. Apply the **scipy.optimize.minimize** function:\n",
    "   - Uses the Nelder-Mead optimization method to minimize NLL.\n",
    "   - Iteratively adjusts the parameters to maximize likelihood.\n",
    "\n",
    "8. Extract the estimated parameters from the optimization results.\n",
    "\n",
    "9. Print the estimated parameters alongside the true parameters.\n",
    "\n",
    "10. Visualize the results:\n",
    "    - Generate a range of x-values spanning the sample data.\n",
    "    - Compute and plot the probability density function (PDF) of the true logistic distribution.\n",
    "    - Compute and plot the estimated logistic distribution based on MLE results.\n",
    "    - Overlay histogram of the sample data for comparison.\n"
   ]
  }
 ],
 "metadata": {
  "language_info": {
   "name": "python"
  }
 },
 "nbformat": 4,
 "nbformat_minor": 2
}
